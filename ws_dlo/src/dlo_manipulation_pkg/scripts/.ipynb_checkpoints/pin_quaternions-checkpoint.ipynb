{
 "cells": [
  {
   "cell_type": "code",
   "execution_count": 2,
   "id": "e52ab943-bfeb-4cf7-9d04-3ebc349df1a6",
   "metadata": {},
   "outputs": [
    {
     "ename": "NameError",
     "evalue": "name 'pinocchio_pywrap_default' is not defined",
     "output_type": "error",
     "traceback": [
      "\u001b[0;31m---------------------------------------------------------------------------\u001b[0m",
      "\u001b[0;31mNameError\u001b[0m                                 Traceback (most recent call last)",
      "\u001b[1;32m/home/ruan/Sandbox/shape_control_DLO_2/ws_dlo/src/dlo_manipulation_pkg/scripts/pin_quaternions.ipynb Cell 1\u001b[0m in \u001b[0;36m<module>\u001b[0;34m\u001b[0m\n\u001b[1;32m      <a href='vscode-notebook-cell:/home/ruan/Sandbox/shape_control_DLO_2/ws_dlo/src/dlo_manipulation_pkg/scripts/pin_quaternions.ipynb#W0sZmlsZQ%3D%3D?line=0'>1</a>\u001b[0m \u001b[39mimport\u001b[39;00m \u001b[39mcasadi\u001b[39;00m \u001b[39mas\u001b[39;00m \u001b[39mca\u001b[39;00m\n\u001b[0;32m----> <a href='vscode-notebook-cell:/home/ruan/Sandbox/shape_control_DLO_2/ws_dlo/src/dlo_manipulation_pkg/scripts/pin_quaternions.ipynb#W0sZmlsZQ%3D%3D?line=1'>2</a>\u001b[0m \u001b[39mimport\u001b[39;00m \u001b[39mpinocchio\u001b[39;00m \u001b[39mas\u001b[39;00m \u001b[39mpin\u001b[39;00m\n\u001b[1;32m      <a href='vscode-notebook-cell:/home/ruan/Sandbox/shape_control_DLO_2/ws_dlo/src/dlo_manipulation_pkg/scripts/pin_quaternions.ipynb#W0sZmlsZQ%3D%3D?line=2'>3</a>\u001b[0m \u001b[39mimport\u001b[39;00m \u001b[39mnumpy\u001b[39;00m \u001b[39mas\u001b[39;00m \u001b[39mnp\u001b[39;00m\n\u001b[1;32m      <a href='vscode-notebook-cell:/home/ruan/Sandbox/shape_control_DLO_2/ws_dlo/src/dlo_manipulation_pkg/scripts/pin_quaternions.ipynb#W0sZmlsZQ%3D%3D?line=3'>4</a>\u001b[0m \u001b[39mimport\u001b[39;00m \u001b[39mhppfcl\u001b[39;00m \u001b[39mas\u001b[39;00m \u001b[39mfcl\u001b[39;00m\n",
      "File \u001b[0;32m/tmp/cmeel-392y48fb/bld/pinocchio-prefix/src/pinocchio-build/bindings/python/pinocchio/__init__.py:16\u001b[0m, in \u001b[0;36m<module>\u001b[0;34m\u001b[0m\n",
      "\u001b[0;31mNameError\u001b[0m: name 'pinocchio_pywrap_default' is not defined"
     ]
    }
   ],
   "source": [
    "import casadi as ca\n",
    "import pinocchio as pin\n",
    "import numpy as np\n",
    "import hppfcl as fcl"
   ]
  },
  {
   "cell_type": "code",
   "execution_count": 2,
   "id": "b53056fa-bca7-42b9-bcea-217421eebb62",
   "metadata": {},
   "outputs": [],
   "source": [
    "# Joint models\n",
    "# pin.JointModelFreeFlyer()\n",
    "# pin.JointModelSpherical()"
   ]
  },
  {
   "cell_type": "code",
   "execution_count": 31,
   "id": "443eaa30-1b8a-43ce-9ffd-29f847334aab",
   "metadata": {},
   "outputs": [],
   "source": [
    "def create_simple_model():\n",
    "    model = pin.Model()\n",
    "    model.name = 'Simplest Robot'\n",
    "    geom_model = pin.GeometryModel()\n",
    "    parent_joint_id = 0 # root joint connected to the world\n",
    "\n",
    "    # Adding the first joint\n",
    "    joint_placement = pin.SE3.Identity()\n",
    "    joint_name = 'floating_joint'\n",
    "    joint_type = pin.JointModelFreeFlyer()\n",
    "    joint_id = model.addJoint(\n",
    "        parent_joint_id,\n",
    "        joint_type,\n",
    "        joint_placement,\n",
    "        joint_name\n",
    "    )\n",
    "\n",
    "    # Adding a body to the first joint\n",
    "    body_inertia = pin.Inertia.Zero()\n",
    "    body_placement = pin.SE3.Identity()\n",
    "    model.appendBodyToJoint(joint_id, body_inertia, body_placement)\n",
    "\n",
    "    # Define geometry for visualization\n",
    "    geom_name = 'link_1'\n",
    "    link_1_length = 0.2\n",
    "    link_1_radius = 0.015\n",
    "    shape = fcl.Cylinder(link_1_radius, link_1_length)\n",
    "    shape_placement = pin.SE3.Identity()\n",
    "    shape_placement.rotation = pin.rpy.rpyToMatrix(0., np.pi/2, 0.)\n",
    "    shape_placement.translation[0] = link_1_length/2.\n",
    "    geom_obj = pin.GeometryObject(geom_name, joint_id, shape, shape_placement)\n",
    "    geom_obj.meshColor = np.array([0.,0.,0.,1.])\n",
    "    geom_model.addGeometryObject(geom_obj)\n",
    "\n",
    "    # Adding the second joint\n",
    "    parent_joint_id = joint_id\n",
    "    joint_placement = pin.SE3.Identity()\n",
    "    joint_placement.translation[0] = link_1_length\n",
    "    joint_name = 'spherical_joint'\n",
    "    joint_type = pin.JointModelSpherical()\n",
    "    joint_id = model.addJoint(\n",
    "        parent_joint_id,\n",
    "        joint_type,\n",
    "        joint_placement,\n",
    "        joint_name\n",
    "    )\n",
    "    \n",
    "    # Adding a body to the second joint\n",
    "    body_inertia = pin.Inertia.Zero()\n",
    "    body_placement = pin.SE3.Identity()\n",
    "    model.appendBodyToJoint(joint_id, body_inertia, body_placement)\n",
    "\n",
    "    # Define geometry for visualization\n",
    "    geom_name = 'link_2'\n",
    "    link_2_length = 0.2\n",
    "    link_2_radius = 0.015\n",
    "    shape = fcl.Cylinder(link_2_radius, link_2_length)\n",
    "    shape_placement = pin.SE3.Identity()\n",
    "    shape_placement.rotation = pin.rpy.rpyToMatrix(0., np.pi/2, 0.)\n",
    "    shape_placement.translation[0] = link_2_length/2.\n",
    "    geom_obj = pin.GeometryObject(geom_name, joint_id, shape, shape_placement)\n",
    "    geom_obj.meshColor = np.array([0.,0.,0.,1.])\n",
    "    geom_model.addGeometryObject(geom_obj)\n",
    "\n",
    "    return model, geom_model\n"
   ]
  },
  {
   "cell_type": "code",
   "execution_count": 35,
   "id": "3981660d-2244-4c99-9992-47f76d6f933d",
   "metadata": {},
   "outputs": [
    {
     "name": "stderr",
     "output_type": "stream",
     "text": [
      "/tmp/ipykernel_3931/3218406343.py:31: UserWarning: This function has been marked as deprecated and will be removed in a future release.\n",
      "  geom_obj = pin.GeometryObject(geom_name, joint_id, shape, shape_placement)\n",
      "/tmp/ipykernel_3931/3218406343.py:61: UserWarning: This function has been marked as deprecated and will be removed in a future release.\n",
      "  geom_obj = pin.GeometryObject(geom_name, joint_id, shape, shape_placement)\n"
     ]
    }
   ],
   "source": [
    "# Create a model\n",
    "model, gmodel = create_simple_model()"
   ]
  },
  {
   "cell_type": "code",
   "execution_count": 42,
   "id": "1e3f3645-dd05-4652-91de-9767630d92bd",
   "metadata": {},
   "outputs": [
    {
     "name": "stdout",
     "output_type": "stream",
     "text": [
      "joint configuration @ t0: [0. 0. 0. 0. 0. 0. 1. 0. 0. 0. 1.] \n",
      "Velocities/twist: [ 0.009  0.778  0.902 -0.478  0.565 -0.396  0.58   0.441  0.272]\n",
      "joint configuration @ t1: [ 1.347e-04  7.802e-03  9.000e-03 -2.390e-03  2.825e-03 -1.980e-03\n",
      "  1.000e+00  2.901e-03  2.205e-03  1.360e-03  1.000e+00] \n"
     ]
    }
   ],
   "source": [
    "# Get neutral position of the joints\n",
    "q_t0 = pin.neutral(model)\n",
    "print(f'joint configuration @ t0: {q_t0} ')\n",
    "\n",
    "# Randomly sample a velococity\n",
    "v_t0 = np.random.uniform(low=-1, high=1, size=(model.nv,))\n",
    "print(f'Velocities/twist: {np.array2string(v_t0, precision=3)}')\n",
    "\n",
    "# Define sampling/integration time\n",
    "dt = 0.01\n",
    "\n",
    "# Integrate the kinematics\n",
    "q_t1 = pin.integrate(model, q_t0, v_t0*dt)\n",
    "print(f'joint configuration @ t1: {np.array2string(q_t1, precision=3)} ')"
   ]
  },
  {
   "cell_type": "code",
   "execution_count": null,
   "id": "b0d79b14-d0d0-4ac0-bf87-2d938093d989",
   "metadata": {},
   "outputs": [],
   "source": []
  }
 ],
 "metadata": {
  "kernelspec": {
   "display_name": "Python 3 (ipykernel)",
   "language": "python",
   "name": "python3"
  },
  "language_info": {
   "codemirror_mode": {
    "name": "ipython",
    "version": 3
   },
   "file_extension": ".py",
   "mimetype": "text/x-python",
   "name": "python",
   "nbconvert_exporter": "python",
   "pygments_lexer": "ipython3",
   "version": "3.8.5"
  }
 },
 "nbformat": 4,
 "nbformat_minor": 5
}
